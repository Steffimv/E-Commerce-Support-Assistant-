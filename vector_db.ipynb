{
 "cells": [
  {
   "cell_type": "code",
   "execution_count": 3,
   "id": "bab19a84",
   "metadata": {},
   "outputs": [
    {
     "data": {
      "application/vnd.jupyter.widget-view+json": {
       "model_id": "9cca232bbe0e48cc990f237fdd26bd9d",
       "version_major": 2,
       "version_minor": 0
      },
      "text/plain": [
       "Batches:   0%|          | 0/840 [00:00<?, ?it/s]"
      ]
     },
     "metadata": {},
     "output_type": "display_data"
    },
    {
     "data": {
      "application/vnd.jupyter.widget-view+json": {
       "model_id": "677dcbb0d769447dbd8abb4a5cbc8e76",
       "version_major": 2,
       "version_minor": 0
      },
      "text/plain": [
       "Batches:   0%|          | 0/840 [00:00<?, ?it/s]"
      ]
     },
     "metadata": {},
     "output_type": "display_data"
    },
    {
     "name": "stdout",
     "output_type": "stream",
     "text": [
      "Saved FAISS index, embeddings, and metadata.\n"
     ]
    }
   ],
   "source": [
    "import pandas as pd\n",
    "import faiss\n",
    "import pickle\n",
    "from sklearn.preprocessing import normalize\n",
    "from sentence_transformers import SentenceTransformer\n",
    "\n",
    "# Load dataset\n",
    "df = pd.read_excel(\"cleaned_filtered_ds.xlsx\")\n",
    "df.columns = df.columns.str.lower()\n",
    "\n",
    "descriptions = df['description'].astype(str).tolist()\n",
    "solutions = df['solution'].astype(str).tolist()\n",
    "categories = df['category'].astype(str).tolist()\n",
    "\n",
    "# Load model and compute both embeddings\n",
    "model = SentenceTransformer('all-MiniLM-L6-v2')\n",
    "\n",
    "desc_embeddings = normalize(model.encode(descriptions, show_progress_bar=True))\n",
    "soln_embeddings = normalize(model.encode(solutions, show_progress_bar=True))  # 🆕\n",
    "\n",
    "# Create FAISS index for description embeddings\n",
    "dimension = desc_embeddings.shape[1]\n",
    "index = faiss.IndexFlatL2(dimension)\n",
    "index.add(desc_embeddings)\n",
    "faiss.write_index(index, \"desc_index.faiss\")\n",
    "\n",
    "\n",
    "# Load precomputed description embeddings\n",
    "with open(\"desc_embeddings.pkl\", \"rb\") as f:\n",
    "    desc_embeddings = pickle.load(f)\n",
    "\n",
    "# Load precomputed solution embeddings\n",
    "with open(\"soln_embeddings.pkl\", \"rb\") as f:\n",
    "    soln_embeddings = pickle.load(f)\n",
    "\n",
    "# Save metadata\n",
    "metadata = list(zip(descriptions, solutions, categories))\n",
    "with open(\"desc_metadata.pkl\", \"wb\") as f:\n",
    "    pickle.dump(metadata, f)\n",
    "\n",
    "print(\"Saved FAISS index, embeddings, and metadata.\")\n"
   ]
  }
 ],
 "metadata": {
  "kernelspec": {
   "display_name": "Python 3",
   "language": "python",
   "name": "python3"
  },
  "language_info": {
   "codemirror_mode": {
    "name": "ipython",
    "version": 3
   },
   "file_extension": ".py",
   "mimetype": "text/x-python",
   "name": "python",
   "nbconvert_exporter": "python",
   "pygments_lexer": "ipython3",
   "version": "3.12.4"
  }
 },
 "nbformat": 4,
 "nbformat_minor": 5
}
