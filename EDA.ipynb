{
 "cells": [
  {
   "cell_type": "code",
   "execution_count": 5,
   "id": "824a0a3c",
   "metadata": {},
   "outputs": [],
   "source": [
    "import pandas as pd\n",
    "\n",
    "df = pd.read_csv('customer_query(ds).csv') "
   ]
  },
  {
   "cell_type": "code",
   "execution_count": 6,
   "id": "33854653",
   "metadata": {},
   "outputs": [
    {
     "name": "stdout",
     "output_type": "stream",
     "text": [
      "Number of rows and columns: (26872, 5)\n"
     ]
    }
   ],
   "source": [
    "print(\"Number of rows and columns:\", df.shape)"
   ]
  },
  {
   "cell_type": "code",
   "execution_count": 7,
   "id": "5caf492a",
   "metadata": {},
   "outputs": [
    {
     "name": "stdout",
     "output_type": "stream",
     "text": [
      "   flags                                        instruction category  \\\n",
      "0      B   question about cancelling order {{Order Number}}    ORDER   \n",
      "1    BQZ  i have a question about cancelling oorder {{Or...    ORDER   \n",
      "2   BLQZ    i need help cancelling puchase {{Order Number}}    ORDER   \n",
      "3     BL         I need to cancel purchase {{Order Number}}    ORDER   \n",
      "4  BCELN  I cannot afford this order, cancel purchase {{...    ORDER   \n",
      "\n",
      "         intent                                           response  \n",
      "0  cancel_order  I've understood you have a question regarding ...  \n",
      "1  cancel_order  I've been informed that you have a question ab...  \n",
      "2  cancel_order  I can sense that you're seeking assistance wit...  \n",
      "3  cancel_order  I understood that you need assistance with can...  \n",
      "4  cancel_order  I'm sensitive to the fact that you're facing f...  \n"
     ]
    }
   ],
   "source": [
    "print(df.head())  # Shows first 5 rows"
   ]
  },
  {
   "cell_type": "code",
   "execution_count": 8,
   "id": "314e4a6d",
   "metadata": {},
   "outputs": [
    {
     "name": "stdout",
     "output_type": "stream",
     "text": [
      "<class 'pandas.core.frame.DataFrame'>\n",
      "RangeIndex: 26872 entries, 0 to 26871\n",
      "Data columns (total 5 columns):\n",
      " #   Column       Non-Null Count  Dtype \n",
      "---  ------       --------------  ----- \n",
      " 0   flags        26872 non-null  object\n",
      " 1   instruction  26872 non-null  object\n",
      " 2   category     26872 non-null  object\n",
      " 3   intent       26872 non-null  object\n",
      " 4   response     26872 non-null  object\n",
      "dtypes: object(5)\n",
      "memory usage: 1.0+ MB\n",
      "None\n"
     ]
    }
   ],
   "source": [
    "print(df.info())"
   ]
  },
  {
   "cell_type": "code",
   "execution_count": 9,
   "id": "b766c53a",
   "metadata": {},
   "outputs": [
    {
     "name": "stdout",
     "output_type": "stream",
     "text": [
      "Null values in each column:\n",
      " flags          0\n",
      "instruction    0\n",
      "category       0\n",
      "intent         0\n",
      "response       0\n",
      "dtype: int64\n"
     ]
    }
   ],
   "source": [
    "print(\"Null values in each column:\\n\", df.isnull().sum())"
   ]
  },
  {
   "cell_type": "code",
   "execution_count": 10,
   "id": "a1691327",
   "metadata": {},
   "outputs": [
    {
     "name": "stdout",
     "output_type": "stream",
     "text": [
      "Number of unique categories: 11\n",
      "Categories:\n",
      " category\n",
      "ACCOUNT         5986\n",
      "ORDER           3988\n",
      "REFUND          2992\n",
      "CONTACT         1999\n",
      "INVOICE         1999\n",
      "PAYMENT         1998\n",
      "FEEDBACK        1997\n",
      "DELIVERY        1994\n",
      "SHIPPING        1970\n",
      "SUBSCRIPTION     999\n",
      "CANCEL           950\n",
      "Name: count, dtype: int64\n"
     ]
    }
   ],
   "source": [
    "print(\"Number of unique categories:\", df['category'].nunique())\n",
    "print(\"Categories:\\n\", df['category'].value_counts())"
   ]
  },
  {
   "cell_type": "code",
   "execution_count": 11,
   "id": "2534676f",
   "metadata": {},
   "outputs": [
    {
     "name": "stdout",
     "output_type": "stream",
     "text": [
      "Number of duplicate rows: 0\n"
     ]
    }
   ],
   "source": [
    "print(\"Number of duplicate rows:\", df.duplicated().sum())"
   ]
  },
  {
   "cell_type": "code",
   "execution_count": 13,
   "id": "aabc6869",
   "metadata": {},
   "outputs": [
    {
     "name": "stdout",
     "output_type": "stream",
     "text": [
      "       query_length  solution_length\n",
      "count  26872.000000     26872.000000\n",
      "mean      46.889513       634.104495\n",
      "std       10.897578       331.593822\n",
      "min        6.000000        57.000000\n",
      "25%       40.000000       427.000000\n",
      "50%       48.000000       540.000000\n",
      "75%       55.000000       753.000000\n",
      "max       92.000000      2472.000000\n"
     ]
    }
   ],
   "source": [
    "df['query_length'] = df['instruction'].astype(str).apply(len)\n",
    "df['solution_length'] = df['response'].astype(str).apply(len)\n",
    "\n",
    "print(df[['query_length', 'solution_length']].describe())\n"
   ]
  },
  {
   "cell_type": "code",
   "execution_count": 16,
   "id": "826876a2",
   "metadata": {},
   "outputs": [
    {
     "name": "stdout",
     "output_type": "stream",
     "text": [
      "Final dataset saved as 'filtered_ds.xlsx' with columns: category, description, solution\n"
     ]
    }
   ],
   "source": [
    "import pandas as pd\n",
    "# Select only the required columns\n",
    "filtered_df = df[['category', 'instruction', 'response']].copy()\n",
    "# Rename columns\n",
    "filtered_df = filtered_df.rename(columns={\n",
    "    'instruction': 'description',\n",
    "    'response': 'solution'\n",
    "})\n",
    "# Save to Excel\n",
    "filtered_df.to_excel('filtered_ds.xlsx', index=False)\n",
    "print(\"Final dataset saved as 'filtered_ds.xlsx' with columns: category, description, solution\")\n"
   ]
  },
  {
   "cell_type": "code",
   "execution_count": 1,
   "id": "02e1ea72",
   "metadata": {},
   "outputs": [
    {
     "name": "stdout",
     "output_type": "stream",
     "text": [
      "        category                                        description  \\\n",
      "0        ACCOUNT            where to notify of problems with signup   \n",
      "1         CANCEL   i need help to see the early termination penalty   \n",
      "2        CONTACT        see what hours i can reach customer service   \n",
      "3       DELIVERY    i have to check what shipment methods you offer   \n",
      "4       FEEDBACK      i need to leave some fedeback about a product   \n",
      "5        INVOICE                          help to get my bills from   \n",
      "6          ORDER                       i want to edit order help me   \n",
      "7        PAYMENT  i want to check the payment modalities i need ...   \n",
      "8         REFUND  assistance to see in which cases can i ask to ...   \n",
      "9       SHIPPING                        i cannot change the addreas   \n",
      "10  SUBSCRIPTION  can you tell me about the subscription to your...   \n",
      "\n",
      "                                             solution  \n",
      "0   glad you contacted to us regarding the problem...  \n",
      "1   absolutely to view the early termination penal...  \n",
      "2   thank you for reaching out i completely unders...  \n",
      "3   of course im here to assist you in exploring o...  \n",
      "4   thank you for choosing to share your feedback ...  \n",
      "5   absolutely i completely understand your need t...  \n",
      "6   we understand that you want to edit your order...  \n",
      "7   thank you for reaching out im here to assist y...  \n",
      "8   assuredly i completely understand your need fo...  \n",
      "9   i apologize for the inconvenience if youre una...  \n",
      "10  indeed id be delighted to provide you with mor...  \n"
     ]
    }
   ],
   "source": [
    "import pandas as pd\n",
    "\n",
    "# Load your file\n",
    "df = pd.read_excel(\"cleaned_filtered_ds.xlsx\")\n",
    "df.columns = df.columns.str.lower()\n",
    "\n",
    "# Drop rows with missing values in essential columns\n",
    "df = df.dropna(subset=['category', 'description', 'solution'])\n",
    "\n",
    "# Select one (random) pair from each category\n",
    "sampled_df = df.groupby('category').sample(n=1, random_state=42)[['category', 'description', 'solution']].reset_index(drop=True)\n",
    "\n",
    "# Show the result\n",
    "print(sampled_df)"
   ]
  }
 ],
 "metadata": {
  "kernelspec": {
   "display_name": "Python 3",
   "language": "python",
   "name": "python3"
  },
  "language_info": {
   "codemirror_mode": {
    "name": "ipython",
    "version": 3
   },
   "file_extension": ".py",
   "mimetype": "text/x-python",
   "name": "python",
   "nbconvert_exporter": "python",
   "pygments_lexer": "ipython3",
   "version": "3.12.4"
  }
 },
 "nbformat": 4,
 "nbformat_minor": 5
}
